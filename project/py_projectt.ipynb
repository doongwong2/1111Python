{
 "cells": [
  {
   "cell_type": "code",
   "execution_count": 47,
   "id": "873c5b25",
   "metadata": {
    "scrolled": true
   },
   "outputs": [
    {
     "data": {
      "image/png": "[encoded data removed]",
      "text/plain": [
       "<Figure size 432x288 with 1 Axes>"
      ]
     },
     "metadata": {
      "needs_background": "light"
     },
     "output_type": "display_data"
    }
   ],
   "source": [
    "import os\n",
    "import tempfile\n",
    "import speech_recognition as sr\n",
    "from sympy import *\n",
    "from sympy.abc import x,y\n",
    "\n",
    "def bot_listening():\n",
    "  rg = sr.Recognizer()\n",
    "  with sr.Microphone() as source:\n",
    "    audioData = rg.listen(source)\n",
    "    try:\n",
    "      text = rg.recognize_google(audioData, language='zh-tw')\n",
    "    except:\n",
    "      text = None\n",
    "  return text\n",
    "st =bot_listening()\n",
    "cmd = st\n",
    "\n",
    "import re\n",
    "cmd=cmd.replace(\" 減 \",'-',4)\n",
    "cmd=cmd.replace(\" 減\",'-',4)\n",
    "cmd=cmd.replace(\"減 \",'-',4)\n",
    "cmd=cmd.replace(\" 加 \",'+',4)\n",
    "cmd=cmd.replace(\"加 \",'+',4)\n",
    "cmd=cmd.replace(\" 加\",'+',4)\n",
    "cmd=cmd.replace(\" - \",'-',4)\n",
    "cmd=cmd.replace(\" -\",'-',4)\n",
    "cmd=cmd.replace(\"- \",'-',4)\n",
    "cmd=cmd.replace(\" + \",'+',4)\n",
    "cmd=cmd.replace(\"+ \",'+',4)j'a\n",
    "cmd=cmd.replace(\" +\",'+',4)\n",
    "cmdlist = [cmd]\n",
    "cmdlist=[c.lower() for c in cmdlist]\n",
    "cmdlist = [c.replace(' ','*') for c in cmdlist]\n",
    "cmdlist = [c.replace('加','+') for c in cmdlist]\n",
    "cmdlist = [c.replace('減','-') for c in cmdlist]\n",
    "newcmd =''.join(map(str,cmdlist))\n",
    "\n",
    "\n",
    "reg = re.compile(r'[+-]?\\d?\\d?\\d?[*]?[a-z][+-]?\\d?\\d?\\d?[*]?[a-z][+-]?\\d?\\d?\\d?')\n",
    "eq = re.findall(reg, newcmd)\n",
    "\n",
    "\n",
    "eqns = [eval(eq[0]),eval(eq[1])]\n",
    "print(eqns)\n",
    "linsolve(eqns,x,y)\n",
    "\n",
    "\n",
    "from sympy import *\n",
    "x, y = symbols('x y')\n",
    "f1 = Eq(eval(eq[0]), 0)\n",
    "f2 = Eq(eval(eq[1]), 0)\n",
    "p1 = None\n",
    "p1 = plot_implicit(f1,show=False)\n",
    "p2 = plot_implicit(f2,show=False)\n",
    "p1.extend(p2)\n",
    "p1.show()\n"
   ]
  },
  {
   "cell_type": "code",
   "execution_count": null,
   "id": "12394177",
   "metadata": {},
   "outputs": [],
   "source": []
  },
  {
   "cell_type": "code",
   "execution_count": null,
   "id": "648b5ace",
   "metadata": {},
   "outputs": [],
   "source": []
  },
  {
   "cell_type": "code",
   "execution_count": null,
   "id": "4cd8c96e",
   "metadata": {},
   "outputs": [],
   "source": []
  },
  {
   "cell_type": "code",
   "execution_count": null,
   "id": "029390f1",
   "metadata": {},
   "outputs": [],
   "source": []
  }
 ],
 "metadata": {
  "kernelspec": {
   "display_name": "Python 3 (ipykernel)",
   "language": "python",
   "name": "python3"
  },
  "language_info": {
   "codemirror_mode": {
    "name": "ipython",
    "version": 3
   },
   "file_extension": ".py",
   "mimetype": "text/x-python",
   "name": "python",
   "nbconvert_exporter": "python",
   "pygments_lexer": "ipython3",
   "version": "3.9.12"
  }
 },
 "nbformat": 4,
 "nbformat_minor": 5
}
